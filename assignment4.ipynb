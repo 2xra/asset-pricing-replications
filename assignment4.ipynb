{
 "cells": [
  {
   "cell_type": "code",
   "execution_count": 59,
   "metadata": {},
   "outputs": [],
   "source": [
    "from math import sqrt\n",
    "import numpy as np\n",
    "import matplotlib.pyplot as plt\n",
    "import pandas as pd\n",
    "\n"
   ]
  },
  {
   "cell_type": "code",
   "execution_count": 60,
   "metadata": {},
   "outputs": [],
   "source": [
    "t = 120\n",
    "t1 = 40\n",
    "n1 = 5\n",
    "n2 = 25\n",
    "n3 = 50\n",
    "rf_rate=0\n",
    "lowermu=.05/12\n",
    "uppermu=.15/12\n",
    "lowersigma = .05/sqrt(12)\n",
    "uppersigma = .6/sqrt(12)\n",
    "targetcorrelation = .5\n",
    "targetsd=.1/sqrt(12)\n"
   ]
  },
  {
   "cell_type": "code",
   "execution_count": 72,
   "metadata": {},
   "outputs": [],
   "source": [
    "def generate_true_params(N,lmu=lowermu, umu=uppermu, lsig=lowersigma, usig=uppersigma, tcor=targetcorrelation):\n",
    "    mu = np.random.uniform(lmu, umu, N)\n",
    "    sigma = np.random.uniform(lsig, usig, N)\n",
    "\n",
    "    cov_matrix = np.ones((N, N)) * targetcorrelation\n",
    "    np.fill_diagonal(cov_matrix, 1)\n",
    "    diagsig = np.diag(sigma)\n",
    "    Covariancemat = diagsig @ cov_matrix @ diagsig\n",
    "    return mu, Covariancemat\n"
   ]
  },
  {
   "cell_type": "code",
   "execution_count": null,
   "metadata": {},
   "outputs": [],
   "source": []
  },
  {
   "cell_type": "code",
   "execution_count": 62,
   "metadata": {},
   "outputs": [],
   "source": [
    "def generate_returns(mu, cov_matrix, T,N):\n",
    "    returns = np.zeros((T,N))\n",
    "    for t in range(T):\n",
    "        returns[t]=np.random.multivariate_normal(mu,cov_matrix)\n",
    "    return returns"
   ]
  },
  {
   "cell_type": "code",
   "execution_count": 71,
   "metadata": {},
   "outputs": [],
   "source": [
    "def calculate_realized_portfolio_return(returns, w, target_std):\n",
    "    portfolio_var = (np.dot(np.dot(w, returns.T), w))\n",
    "    leverage = target_std**2 / portfolio_var\n",
    "    return np.dot(w, returns) * np.sqrt(leverage)\n",
    "#* leverage\n",
    "\n",
    "def estimate_parameters_and_portfolio_returns(returns, T1,target_std, T):\n",
    "    realized_returns = []\n",
    "    tangency_portfolio_weights = []\n",
    "    for t in range(T1, T):\n",
    "        # Estimate expected returns and covariance matrix\n",
    "        returns_up_to_t = returns[:t]\n",
    "        estimated_mu = np.mean(returns_up_to_t, axis=0)\n",
    "        estimated_cov_matrix = np.cov(returns_up_to_t.T)\n",
    "        \n",
    "        # Calculate tangency portfolio weights\n",
    "        inv_cov_matrix = np.linalg.inv(estimated_cov_matrix)\n",
    "        excess_returns = estimated_mu - rf_rate\n",
    "        w = np.dot(inv_cov_matrix, excess_returns) / np.sum(np.dot(inv_cov_matrix, excess_returns))\n",
    "        \n",
    "        # Store tangency portfolio weights\n",
    "        tangency_portfolio_weights.append(w)\n",
    "        \n",
    "        # Calculate realized portfolio return with target standard deviation\n",
    "        realized_return = calculate_realized_portfolio_return(returns[t], w, target_std)\n",
    "        realized_returns.append(realized_return)\n",
    "    return realized_returns"
   ]
  },
  {
   "cell_type": "code",
   "execution_count": 70,
   "metadata": {},
   "outputs": [
    {
     "name": "stdout",
     "output_type": "stream",
     "text": [
      "[array([        nan, -0.00774753,         nan,         nan, -0.02128933]), array([       nan,        nan, 0.00261665, 0.01518499,        nan]), array([        nan, -0.01653192,         nan,         nan, -0.0306094 ]), array([        nan, -0.01741917,         nan,         nan, -0.0289228 ]), array([-0.04673676,         nan,         nan, -0.12386036, -0.03552088]), array([       nan,        nan, 0.00691156, 0.03077362,        nan]), array([       nan,        nan, 0.00416836, 0.01861565,        nan]), array([-0.01179417, -0.00945566,         nan,         nan, -0.00900724]), array([-0.04827309, -0.03387083,         nan,         nan, -0.03540803]), array([-0.02545311, -0.02164223,         nan,         nan, -0.05764159]), array([-0.03296712, -0.03734605,         nan,         nan, -0.04223878]), array([        nan, -0.03088355,         nan,         nan, -0.06798323]), array([0.03559848,        nan, 0.00450272, 0.04579283,        nan]), array([        nan, -0.0311945 ,         nan,         nan, -0.05398073]), array([        nan,         nan,         nan, -0.0097304 , -0.01749645]), array([        nan, -0.01525918,         nan, -0.01185645, -0.01212824]), array([-0.02905727,         nan,         nan, -0.01924348, -0.01635552]), array([-0.0592843 , -0.01833653,         nan,         nan, -0.0119064 ]), array([-0.07127009, -0.04400206,         nan,         nan, -0.01834773]), array([-0.03626503,         nan,         nan,         nan, -0.01435538]), array([       nan,        nan, 0.00229355,        nan,        nan]), array([0.0910734 ,        nan, 0.00467157, 0.05729497,        nan]), array([0.09203874,        nan, 0.0051298 , 0.03983032,        nan]), array([0.07081831,        nan, 0.00507378, 0.04480389,        nan]), array([0.06056581,        nan, 0.00299643, 0.0245515 ,        nan]), array([0.06472157,        nan, 0.00665876, 0.03543917,        nan]), array([        nan, -0.00496549,         nan,         nan, -0.00362208]), array([        nan, -0.01017319,         nan,         nan, -0.00796923]), array([0.03056331,        nan, 0.00405376, 0.02584233,        nan]), array([0.0263572 ,        nan, 0.00396251, 0.0254315 ,        nan]), array([0.03076812,        nan, 0.00444832, 0.02880807,        nan]), array([0.02265355,        nan, 0.00317993, 0.02912482,        nan]), array([        nan, -0.02488263,         nan,         nan, -0.01142334]), array([0.03301253,        nan, 0.00644154,        nan,        nan]), array([0.02118823,        nan, 0.00407318,        nan,        nan]), array([        nan, -0.03085333,         nan, -0.03095818, -0.01818564]), array([0.02138708,        nan, 0.00438467,        nan,        nan]), array([0.02324043,        nan, 0.00481669,        nan,        nan]), array([0.01483597,        nan, 0.00301469,        nan,        nan]), array([        nan, -0.02921784,         nan, -0.02642274, -0.02015414]), array([        nan, -0.02223131,         nan, -0.01793112, -0.01579517]), array([        nan, -0.02359304,         nan, -0.01014728, -0.01008748]), array([0.0392728 , 0.1348368 , 0.00588062,        nan,        nan]), array([        nan,         nan,         nan, -0.01989199, -0.0179772 ]), array([0.00477346, 0.00633639, 0.00066548,        nan,        nan]), array([0.01875069, 0.02776261, 0.00300419,        nan,        nan]), array([        nan,         nan,         nan, -0.00762877, -0.00686204]), array([0.02951001, 0.06757325, 0.00527723,        nan,        nan]), array([        nan,         nan,         nan, -0.01625339, -0.01434686]), array([0.01068498, 0.01569783, 0.0015782 ,        nan,        nan]), array([        nan,         nan,         nan, -0.01032924, -0.00846315]), array([0.02869643, 0.03108992, 0.00435142,        nan,        nan]), array([        nan,         nan,         nan, -0.00154188, -0.00132178]), array([0.01966574, 0.0199999 , 0.00258856,        nan,        nan]), array([0.02437027, 0.03167121, 0.00311304,        nan,        nan]), array([        nan,         nan,         nan, -0.01009312, -0.00991861]), array([0.04500973, 0.04668348, 0.00540788,        nan,        nan]), array([        nan,         nan,         nan, -0.01721389, -0.0144558 ]), array([0.02467401, 0.02586398, 0.00310234,        nan,        nan]), array([       nan,        nan,        nan, -0.0085489, -0.0082041]), array([0.0412225 , 0.03474957, 0.00531673,        nan,        nan]), array([0.02474287, 0.02175381, 0.00327355,        nan,        nan]), array([0.00676542, 0.00612145, 0.00100586,        nan,        nan]), array([0.03251469, 0.02803405, 0.00506561,        nan,        nan]), array([        nan,         nan,         nan, -0.02293639, -0.0220643 ]), array([0.00815016, 0.00549558, 0.00100505,        nan,        nan]), array([0.0326677 , 0.01748205, 0.00328404,        nan,        nan]), array([0.0093983 , 0.00436288, 0.00086234,        nan,        nan]), array([0.03991265, 0.01983887, 0.00385717,        nan,        nan]), array([0.05475678, 0.01983161, 0.00411515,        nan,        nan]), array([0.04873899, 0.02752029, 0.00544249,        nan,        nan]), array([0.01045184, 0.00525718, 0.00105278,        nan,        nan]), array([0.03573201, 0.02305083, 0.00407288,        nan,        nan]), array([0.02723084, 0.01788515, 0.00322457,        nan,        nan]), array([0.00993101, 0.00692558, 0.00128207,        nan,        nan]), array([        nan,         nan,         nan, -0.01674679, -0.01643211]), array([0.06551774, 0.02611605, 0.0052444 ,        nan,        nan]), array([        nan,         nan,         nan, -0.01691924, -0.0170117 ]), array([0.10915934, 0.0268313 , 0.00505149,        nan,        nan]), array([        nan,         nan,         nan, -0.01332259, -0.01358927])]\n"
     ]
    },
    {
     "name": "stderr",
     "output_type": "stream",
     "text": [
      "C:\\Users\\Owner\\AppData\\Local\\Temp\\ipykernel_49592\\2523104012.py:4: RuntimeWarning: invalid value encountered in sqrt\n",
      "  return np.dot(w, returns) * np.sqrt(leverage)\n"
     ]
    }
   ],
   "source": [
    "mumatrix, covmatrix = generate_true_params(5)\n",
    "x = generate_returns(mumatrix,covmatrix,120,5)\n",
    "\n",
    "print(estimate_parameters_and_portfolio_returns(x, 40,targetsd,120))\n",
    "\n",
    "\n"
   ]
  }
 ],
 "metadata": {
  "kernelspec": {
   "display_name": "Python 3",
   "language": "python",
   "name": "python3"
  },
  "language_info": {
   "codemirror_mode": {
    "name": "ipython",
    "version": 3
   },
   "file_extension": ".py",
   "mimetype": "text/x-python",
   "name": "python",
   "nbconvert_exporter": "python",
   "pygments_lexer": "ipython3",
   "version": "3.10.11"
  }
 },
 "nbformat": 4,
 "nbformat_minor": 2
}
